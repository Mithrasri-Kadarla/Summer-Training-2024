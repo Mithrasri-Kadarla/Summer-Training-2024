{
 "cells": [
  {
   "cell_type": "code",
   "execution_count": 56,
   "id": "561d1a50-c1ef-4f97-9770-2d21a607b368",
   "metadata": {},
   "outputs": [
    {
     "name": "stdin",
     "output_type": "stream",
     "text": [
      " 3 2 5 4 1 6 8\n"
     ]
    },
    {
     "name": "stdout",
     "output_type": "stream",
     "text": [
      "(3, 2, 5)\n",
      "(3, 2, 4)\n",
      "(3, 2, 1)\n",
      "(3, 2, 6)\n",
      "(3, 2, 8)\n",
      "(3, 5, 4)\n",
      "(3, 5, 1)\n",
      "(3, 5, 6)\n",
      "(3, 5, 8)\n",
      "(3, 4, 1)\n",
      "(3, 4, 6)\n",
      "(3, 4, 8)\n",
      "(3, 1, 6)\n",
      "(3, 1, 8)\n",
      "(3, 6, 8)\n",
      "(2, 5, 4)\n",
      "(2, 5, 1)\n",
      "(2, 5, 6)\n",
      "(2, 5, 8)\n",
      "(2, 4, 1)\n",
      "(2, 4, 6)\n",
      "(2, 4, 8)\n",
      "(2, 1, 6)\n",
      "(2, 1, 8)\n",
      "(2, 6, 8)\n",
      "(5, 4, 1)\n",
      "(5, 4, 6)\n",
      "(5, 4, 8)\n",
      "(5, 1, 6)\n",
      "(5, 1, 8)\n",
      "(5, 6, 8)\n",
      "(4, 1, 6)\n",
      "(4, 1, 8)\n",
      "(4, 6, 8)\n",
      "(1, 6, 8)\n"
     ]
    }
   ],
   "source": [
    "# form possible 3 digit numbers with recursion from given  list -- 3 2 5 4 1 6 8\n",
    "from itertools import combinations\n",
    "def fun(arr,n):\n",
    "    comb=combinations(arr,n)\n",
    "    for i in comb:\n",
    "        print(i)\n",
    "arr=list(map(int,input().split()))\n",
    "fun(arr,3)"
   ]
  },
  {
   "cell_type": "code",
   "execution_count": 2,
   "id": "0b03fc4b-60b3-4424-964b-15acb051321e",
   "metadata": {},
   "outputs": [
    {
     "name": "stdin",
     "output_type": "stream",
     "text": [
      " 3 2 5 4 1 6 8\n"
     ]
    },
    {
     "name": "stdout",
     "output_type": "stream",
     "text": [
      "[3, 2, 5]\n",
      "[3, 2, 4]\n",
      "[3, 2, 1]\n",
      "[3, 2, 6]\n",
      "[3, 2, 8]\n",
      "[3, 5, 4]\n",
      "[3, 5, 1]\n",
      "[3, 5, 6]\n",
      "[3, 5, 8]\n",
      "[3, 4, 1]\n",
      "[3, 4, 6]\n",
      "[3, 4, 8]\n",
      "[3, 1, 6]\n",
      "[3, 1, 8]\n",
      "[3, 6, 8]\n",
      "[2, 5, 4]\n",
      "[2, 5, 1]\n",
      "[2, 5, 6]\n",
      "[2, 5, 8]\n",
      "[2, 4, 1]\n",
      "[2, 4, 6]\n",
      "[2, 4, 8]\n",
      "[2, 1, 6]\n",
      "[2, 1, 8]\n",
      "[2, 6, 8]\n",
      "[5, 4, 1]\n",
      "[5, 4, 6]\n",
      "[5, 4, 8]\n",
      "[5, 1, 6]\n",
      "[5, 1, 8]\n",
      "[5, 6, 8]\n",
      "[4, 1, 6]\n",
      "[4, 1, 8]\n",
      "[4, 6, 8]\n",
      "[1, 6, 8]\n"
     ]
    }
   ],
   "source": [
    "def gen_comb(arr,n):\n",
    "    def combin(comb,start):\n",
    "        if len(comb)==n:\n",
    "            print(comb)\n",
    "            return\n",
    "        for i in range(start,len(arr)):\n",
    "            comb.append(arr[i])\n",
    "            combin(comb,i+1)\n",
    "            comb.pop()\n",
    "    combin([], 0)\n",
    "arr=list(map(int,input().split()))\n",
    "gen_comb(arr,3)"
   ]
  },
  {
   "cell_type": "code",
   "execution_count": 3,
   "id": "66337aed-15ac-427e-9f48-7f2475f13b63",
   "metadata": {},
   "outputs": [
    {
     "name": "stdin",
     "output_type": "stream",
     "text": [
      " 1 4 8 5 6\n"
     ]
    },
    {
     "name": "stdout",
     "output_type": "stream",
     "text": [
      "[1, 4, 8]\n",
      "[1, 4, 5]\n",
      "[1, 4, 6]\n",
      "[1, 8, 5]\n",
      "[1, 8, 6]\n",
      "[1, 5, 6]\n",
      "[4, 8, 5]\n",
      "[4, 8, 6]\n",
      "[4, 5, 6]\n",
      "[8, 5, 6]\n"
     ]
    }
   ],
   "source": [
    "def fun(arr,n):\n",
    "    def combine(l,start):\n",
    "        if len(l)==n:\n",
    "            print(l)\n",
    "            return\n",
    "        for i in range(start,len(arr)):\n",
    "            l.append(arr[i])\n",
    "            combine(l,i+1)\n",
    "            l.pop()\n",
    "    combine([],0)\n",
    "arr=list(map(int,input().split()))\n",
    "fun(arr,3)"
   ]
  },
  {
   "cell_type": "code",
   "execution_count": 5,
   "id": "48d6d9e3-166c-4d85-9717-0f618a0dc44b",
   "metadata": {},
   "outputs": [
    {
     "name": "stdout",
     "output_type": "stream",
     "text": [
      "1 1 2 3 5 8 13 21 34 "
     ]
    }
   ],
   "source": [
    "def fib(n):\n",
    "    if n==1:\n",
    "        return 1\n",
    "    if n==2:\n",
    "        return 1\n",
    "    return fib(n-1)+fib(n-2)\n",
    "x=10\n",
    "for i in range(1,x):\n",
    "    print(fib(i),end=' ')"
   ]
  },
  {
   "cell_type": "code",
   "execution_count": 31,
   "id": "6c7a0b60-f38d-4bb5-ba32-6e0ab99df81d",
   "metadata": {},
   "outputs": [
    {
     "name": "stdout",
     "output_type": "stream",
     "text": [
      "Substrings: ['sch', 'cho', 'hoo', 'ool']\n"
     ]
    },
    {
     "name": "stdin",
     "output_type": "stream",
     "text": [
      " L2\n",
      " R3\n",
      " L1\n"
     ]
    },
    {
     "name": "stdout",
     "output_type": "stream",
     "text": [
      "New String: hoc\n",
      "Yes\n"
     ]
    }
   ],
   "source": [
    "# Substrings: ['sch', 'cho', 'hoo', 'ool']\n",
    "#  L2\n",
    "#  R3\n",
    "#  L1\n",
    "# New String: hoc\n",
    "# Yes\n",
    "def substrings_of_length(s, length):\n",
    "    substrings = []\n",
    "    for i in range(len(s) - length + 1):\n",
    "        substrings.append(s[i:i + length])\n",
    "    return substrings\n",
    "\n",
    "\n",
    "\n",
    "# Generate substrings of length 3 from 'school'\n",
    "s = 'school'\n",
    "length = 3\n",
    "substrings = substrings_of_length(s, length)\n",
    "# print(\"Substrings:\", substrings)\n",
    "\n",
    "# Get user input and perform rotations\n",
    "n = 3\n",
    "l = []\n",
    "\n",
    "for i in range(n):\n",
    "    x = input()\n",
    "    x1 = x[0]\n",
    "    x2 = int(x[1])\n",
    "    if x1.upper() == 'L':\n",
    "        l.append(s[x2:] + s[:x2])\n",
    "    elif x1.upper() == 'R':\n",
    "        l.append(s[-x2:] + s[:-x2])\n",
    "\n",
    "ns = ''.join(i[0] for i in l)\n",
    "print(\"New String:\", ns)\n",
    "\n",
    "if ''.join(sorted(ns)) in substrings:\n",
    "    print(\"Yes\")\n",
    "else:\n",
    "    print(\"No\")\n"
   ]
  },
  {
   "cell_type": "code",
   "execution_count": 55,
   "id": "f21f4e7f-1b6c-46d2-9d00-ae8382f27cc2",
   "metadata": {},
   "outputs": [
    {
     "name": "stdin",
     "output_type": "stream",
     "text": [
      "Enter a number:  12\n"
     ]
    },
    {
     "name": "stdout",
     "output_type": "stream",
     "text": [
      "5 7\n",
      "True\n"
     ]
    }
   ],
   "source": [
    "def is_prime(number):\n",
    "    if number <=1:  # Updated condition to handle numbers less than 2\n",
    "        return False\n",
    "    for i in range(2, int(number ** 0.5) + 1):\n",
    "        if number % i == 0:\n",
    "            return False\n",
    "    return True\n",
    "\n",
    "def check_sum_of_primes(n):\n",
    "    for i in range(1, n):\n",
    "        if is_prime(i) and is_prime(n - i):\n",
    "            print(i,n-i)\n",
    "            return True\n",
    "    return False\n",
    "\n",
    "# Example usage\n",
    "n = int(input(\"Enter a number: \"))\n",
    "if check_sum_of_primes(n):\n",
    "    print(\"True\")\n",
    "else:\n",
    "    print(\"False\")\n"
   ]
  },
  {
   "cell_type": "code",
   "execution_count": 62,
   "id": "f3d1ef21-7f56-41f8-a977-301c9c61ab59",
   "metadata": {},
   "outputs": [
    {
     "name": "stdout",
     "output_type": "stream",
     "text": [
      "[24, 13, 13, 19, 18, 18]\n",
      "bbddca\n"
     ]
    }
   ],
   "source": [
    "# ip:\n",
    "#     polikujmnhytgbvfredcxswqaz\n",
    "#     abcd\n",
    "#     qwryupcsfoghjkldezxvbintma\n",
    "#     ativedoc\n",
    "# op:\n",
    "#     bdca\n",
    "#     codevita\n",
    "alpha=\"polikujmnhytgbvfredcxswqaz\"\n",
    "x='abbcdd'\n",
    "z=[]\n",
    "for i in x:\n",
    "    if i in alpha:\n",
    "        y=alpha.index(i)\n",
    "        z.append(y)\n",
    "print(z)\n",
    "b=sorted(z)\n",
    "s=\"\"\n",
    "for i in b:\n",
    "    s+=alpha[i]\n",
    "print(s)"
   ]
  },
  {
   "cell_type": "code",
   "execution_count": null,
   "id": "dbf81afe-53b8-4d1b-b479-f92774748f09",
   "metadata": {},
   "outputs": [],
   "source": []
  }
 ],
 "metadata": {
  "kernelspec": {
   "display_name": "Python 3 (ipykernel)",
   "language": "python",
   "name": "python3"
  },
  "language_info": {
   "codemirror_mode": {
    "name": "ipython",
    "version": 3
   },
   "file_extension": ".py",
   "mimetype": "text/x-python",
   "name": "python",
   "nbconvert_exporter": "python",
   "pygments_lexer": "ipython3",
   "version": "3.11.4"
  }
 },
 "nbformat": 4,
 "nbformat_minor": 5
}
