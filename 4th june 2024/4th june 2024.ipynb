{
 "cells": [
  {
   "cell_type": "code",
   "execution_count": 55,
   "id": "51df8c6f-baaf-4137-b048-ceb2d64caade",
   "metadata": {},
   "outputs": [
    {
     "name": "stdout",
     "output_type": "stream",
     "text": [
      "xray\n"
     ]
    }
   ],
   "source": [
    "a='bvec'\n",
    "b=30\n",
    "c=b%26\n",
    "d=''\n",
    "for i in a:\n",
    "    if ((ord(i)-c)>=97):\n",
    "        d=d+chr(ord(i)-c)\n",
    "    else:\n",
    "        d+=chr(ord(i)-c+26)\n",
    "print(d)"
   ]
  },
  {
   "cell_type": "code",
   "execution_count": 45,
   "id": "ff7a16db-bc3b-4df2-bd7b-e29d71907842",
   "metadata": {},
   "outputs": [
    {
     "name": "stdout",
     "output_type": "stream",
     "text": [
      "5\n"
     ]
    }
   ],
   "source": [
    "def sub_string(s):\n",
    "    if not s:\n",
    "        return 0\n",
    "    maximum=1\n",
    "    length=1\n",
    "    n=len(s)\n",
    "    for i in range(1,n):\n",
    "        if s[i]==chr(ord(s[i-1])+1):\n",
    "            length+=1\n",
    "        else:\n",
    "            maximum=max(maximum,length)\n",
    "            length=1\n",
    "    maximum=max(maximum,length)\n",
    "    return maximum\n",
    "s=\"abcde\"\n",
    "r=sub_string(s)\n",
    "print(r)"
   ]
  },
  {
   "cell_type": "code",
   "execution_count": 51,
   "id": "caddbd7b-c4ef-4417-b653-cafef8a68d07",
   "metadata": {},
   "outputs": [],
   "source": [
    "#  3\n",
    "#  xyz\n",
    "#  pqr\n",
    "#  abc\n",
    "#  yraxpazr\n",
    "#  yes"
   ]
  },
  {
   "cell_type": "code",
   "execution_count": 7,
   "id": "e9c051c5-2fa8-4ae9-97ed-fd3fafcd2532",
   "metadata": {},
   "outputs": [
    {
     "name": "stdin",
     "output_type": "stream",
     "text": [
      " 3\n",
      " xyz\n",
      " pqr\n",
      " abc\n",
      " yraxpazr\n"
     ]
    },
    {
     "name": "stdout",
     "output_type": "stream",
     "text": [
      "yes\n"
     ]
    }
   ],
   "source": [
    "n=int(input())\n",
    "matrix=[]\n",
    "for i in range(n):\n",
    "    row=input()\n",
    "    matrix.append(row)\n",
    "s=input()\n",
    "i=0\n",
    "for row in matrix:\n",
    "    if s[i] in row:\n",
    "        x=1\n",
    "        i+=1\n",
    "    else:\n",
    "        print(\"no\")\n",
    "        break\n",
    "else:\n",
    "    if x:\n",
    "        print(\"yes\")"
   ]
  },
  {
   "cell_type": "code",
   "execution_count": 58,
   "id": "f3761f3a-3da9-4398-ba73-ce852d2a6d7a",
   "metadata": {},
   "outputs": [
    {
     "name": "stdin",
     "output_type": "stream",
     "text": [
      " 3\n",
      " abc\n",
      " pqr\n",
      " hij\n",
      " aqrj\n"
     ]
    },
    {
     "name": "stdout",
     "output_type": "stream",
     "text": [
      "no\n"
     ]
    }
   ],
   "source": [
    "n=int(input())\n",
    "matrix=[]\n",
    "for i in range(n):\n",
    "    row=input()\n",
    "    matrix.append(row)\n",
    "s=input()\n",
    "f=0\n",
    "for i in range(len(s)):\n",
    "    if s[i] not in matrix[i%n]:\n",
    "        print(\"no\")\n",
    "        break\n",
    "else:\n",
    "    print(\"yes\")"
   ]
  },
  {
   "cell_type": "code",
   "execution_count": 66,
   "id": "d90443db-e0b6-43df-a0d0-6235bd2ea564",
   "metadata": {},
   "outputs": [
    {
     "name": "stdin",
     "output_type": "stream",
     "text": [
      " 2\n",
      " ab\n",
      " ed\n",
      " aad\n"
     ]
    },
    {
     "name": "stdout",
     "output_type": "stream",
     "text": [
      "no\n"
     ]
    }
   ],
   "source": [
    "n=int(input())\n",
    "matrix=[]\n",
    "for i in range(n):\n",
    "    matrix.append(list(input()))\n",
    "s=input()\n",
    "f=0\n",
    "for i in range(len(s)):\n",
    "    if s[i] not in matrix[i%n]:\n",
    "        print(\"no\")\n",
    "        f=1\n",
    "        break\n",
    "    else:\n",
    "        matrix[i].remove(s[i])\n",
    "if f==0:\n",
    "    print(\"Yes\")"
   ]
  },
  {
   "cell_type": "code",
   "execution_count": null,
   "id": "b8739d45-c80d-4360-babe-05e08b378be9",
   "metadata": {},
   "outputs": [],
   "source": []
  },
  {
   "cell_type": "code",
   "execution_count": 50,
   "id": "9208c367",
   "metadata": {},
   "outputs": [
    {
     "name": "stdin",
     "output_type": "stream",
     "text": [
      " 3\n",
      " xyz\n",
      " pqr\n",
      " abc\n",
      " yraxpazr\n"
     ]
    },
    {
     "name": "stdout",
     "output_type": "stream",
     "text": [
      "No\n"
     ]
    }
   ],
   "source": [
    "n=int(input())\n",
    "l=[]\n",
    "for i in range(n):\n",
    "    s=input()\n",
    "    l.append(s)\n",
    "input_str=input()\n",
    "res=[]\n",
    "for i in range(len(input_str)):\n",
    "    x=0\n",
    "    if input_str[i] in l[x]:\n",
    "        res.append(1)\n",
    "        x+=1\n",
    "        if x>len(l)-1:\n",
    "            x=0\n",
    "    else:\n",
    "        res.append(0)\n",
    "        x+=1\n",
    "        if x>len(l)-1:\n",
    "            x=0\n",
    "if all(res):\n",
    "    print(\"Yes\")\n",
    "else:\n",
    "    print(\"No\")"
   ]
  },
  {
   "cell_type": "code",
   "execution_count": 58,
   "id": "eb7adb61",
   "metadata": {},
   "outputs": [
    {
     "name": "stdin",
     "output_type": "stream",
     "text": [
      " 3\n",
      " abc\n",
      " pqr\n",
      " hij\n",
      " aqrj\n"
     ]
    },
    {
     "name": "stdout",
     "output_type": "stream",
     "text": [
      "no\n"
     ]
    }
   ],
   "source": [
    "n=int(input())\n",
    "matrix=[]\n",
    "for i in range(n):\n",
    "    row=input()\n",
    "    matrix.append(row)\n",
    "s=input()\n",
    "f=0\n",
    "for i in range(len(s)):\n",
    "    if s[i] not in matrix[i%n]:\n",
    "        print(\"no\")\n",
    "        break\n",
    "else:\n",
    "    print(\"yes\")"
   ]
  },
  {
   "cell_type": "code",
   "execution_count": 66,
   "id": "0611b02b",
   "metadata": {},
   "outputs": [
    {
     "name": "stdin",
     "output_type": "stream",
     "text": [
      " 2\n",
      " ab\n",
      " ed\n",
      " aad\n"
     ]
    },
    {
     "name": "stdout",
     "output_type": "stream",
     "text": [
      "no\n"
     ]
    }
   ],
   "source": [
    "n=int(input())\n",
    "matrix=[]\n",
    "for i in range(n):\n",
    "    matrix.append(list(input()))\n",
    "s=input()\n",
    "f=0\n",
    "for i in range(len(s)):\n",
    "    if s[i] not in matrix[i%n]:\n",
    "        print(\"no\")\n",
    "        f=1\n",
    "        break\n",
    "    else:\n",
    "        matrix[i].remove(s[i])\n",
    "if f==0:\n",
    "    print(\"Yes\")"
   ]
  },
  {
   "cell_type": "code",
   "execution_count": 1,
   "id": "b85d3653",
   "metadata": {},
   "outputs": [],
   "source": [
    "# l=[4,1,3,7,3,2]\n",
    "# nr=int(input(\"Enter the number if rats:\"))\n",
    "# uc=int(input(\"Enter the number of units each rat consumes:\"))\n",
    "\n",
    "        "
   ]
  },
  {
   "cell_type": "code",
   "execution_count": 7,
   "id": "e7095193",
   "metadata": {},
   "outputs": [
    {
     "name": "stdin",
     "output_type": "stream",
     "text": [
      " 74147\n"
     ]
    },
    {
     "name": "stdout",
     "output_type": "stream",
     "text": [
      "Palindrome\n"
     ]
    }
   ],
   "source": [
    "'''input:12321 palindrome or not with recursion'''\n",
    "def fun(n,r):\n",
    "    if n==0:\n",
    "        return r\n",
    "    r=r*10+(n%10)\n",
    "    res=fun(n//10,r)\n",
    "    return res\n",
    "            \n",
    "n=int(input())\n",
    "if n==fun(n,0):\n",
    "    print(\"Palindrome\")\n",
    "else:\n",
    "    print(\"Not Palindrome\")\n",
    "\n"
   ]
  },
  {
   "cell_type": "code",
   "execution_count": 28,
   "id": "7ede73d0",
   "metadata": {},
   "outputs": [
    {
     "name": "stdin",
     "output_type": "stream",
     "text": [
      " 5 4 2 9 7 1\n"
     ]
    },
    {
     "name": "stdout",
     "output_type": "stream",
     "text": [
      "7\n"
     ]
    }
   ],
   "source": [
    "# ip:\n",
    "#     15 3 2 7 8 4            5 4 2 9 7 1         9 8 7 6 5 4     5 3 2 7 8 4\n",
    "#     m  t w t f s             \n",
    "# op:\n",
    "#     6                       7                   0                6\n",
    "a= list(map(int, input().split(' ')))\n",
    "pr=0\n",
    "for i in range(len(n)-1):\n",
    "    for j in range(i+1,len(a)):\n",
    "        if (a[i]<a[j] and a[j]-a[i]>pr):\n",
    "            pr=a[j]-a[i]\n",
    "print(pr)"
   ]
  },
  {
   "cell_type": "code",
   "execution_count": null,
   "id": "ccb65f97-dd3a-47bd-8264-3fe14a96ead6",
   "metadata": {},
   "outputs": [],
   "source": [
    "# n= list(map(int, input().split(' ')))\n",
    "# b=n[0]\n",
    "# pr=0\n",
    "# for i in range(1,len(n)+1):\n",
    "#     if b<\n",
    "    "
   ]
  },
  {
   "cell_type": "code",
   "execution_count": 51,
   "id": "fb44466b",
   "metadata": {},
   "outputs": [],
   "source": [
    "#  3\n",
    "#  xyz\n",
    "#  pqr\n",
    "#  abc\n",
    "#  yraxpazr\n",
    "#  yes"
   ]
  },
  {
   "cell_type": "code",
   "execution_count": 54,
   "id": "1bae630b",
   "metadata": {},
   "outputs": [
    {
     "name": "stdin",
     "output_type": "stream",
     "text": [
      " 3\n",
      " xyz\n",
      " abc\n",
      " pqr\n",
      " xqz\n"
     ]
    },
    {
     "name": "stdout",
     "output_type": "stream",
     "text": [
      "no\n"
     ]
    }
   ],
   "source": [
    "n=int(input())\n",
    "matrix=[]\n",
    "for i in range(n):\n",
    "    row=input()\n",
    "    matrix.append(row)\n",
    "s=input()\n",
    "i=0\n",
    "for row in matrix:\n",
    "    if s[i] in row:\n",
    "        x=1\n",
    "        i+=1\n",
    "    else:\n",
    "        print(\"no\")\n",
    "        break\n",
    "else:\n",
    "    if x:\n",
    "        print(\"yes\")"
   ]
  },
  {
   "cell_type": "code",
   "execution_count": 56,
   "id": "e42c3b92",
   "metadata": {},
   "outputs": [
    {
     "name": "stdin",
     "output_type": "stream",
     "text": [
      " 4\n",
      " wxyz\n",
      " abcd\n",
      " pqrs\n",
      " ghij\n",
      " ebqizasjwsg\n"
     ]
    },
    {
     "name": "stdout",
     "output_type": "stream",
     "text": [
      "yes\n"
     ]
    }
   ],
   "source": [
    "n=int(input())\n",
    "matrix=[]\n",
    "for i in range(n):\n",
    "    row=input()\n",
    "    matrix.append(row)\n",
    "s=input()\n",
    "for row in matrix:\n",
    "    if all(char in s for char in row):\n",
    "        continue\n",
    "    else:\n",
    "        print(\"no\")\n",
    "        break\n",
    "else:\n",
    "    print(\"yes\")"
   ]
  },
  {
   "cell_type": "code",
   "execution_count": 58,
   "id": "d52fc419",
   "metadata": {},
   "outputs": [
    {
     "name": "stdin",
     "output_type": "stream",
     "text": [
      " 3\n",
      " abc\n",
      " pqr\n",
      " hij\n",
      " aqrj\n"
     ]
    },
    {
     "name": "stdout",
     "output_type": "stream",
     "text": [
      "no\n"
     ]
    }
   ],
   "source": [
    "n=int(input())\n",
    "matrix=[]\n",
    "for i in range(n):\n",
    "    row=input()\n",
    "    matrix.append(row)\n",
    "s=input()\n",
    "f=0\n",
    "for i in range(len(s)):\n",
    "    if s[i] not in matrix[i%n]:\n",
    "        print(\"no\")\n",
    "        break\n",
    "else:\n",
    "    print(\"yes\")"
   ]
  },
  {
   "cell_type": "code",
   "execution_count": 50,
   "id": "33347ad0",
   "metadata": {},
   "outputs": [
    {
     "name": "stdin",
     "output_type": "stream",
     "text": [
      " 3\n",
      " xyz\n",
      " pqr\n",
      " abc\n",
      " yraxpazr\n"
     ]
    },
    {
     "name": "stdout",
     "output_type": "stream",
     "text": [
      "No\n"
     ]
    }
   ],
   "source": [
    "n=int(input())\n",
    "l=[]\n",
    "for i in range(n):\n",
    "    s=input()\n",
    "    l.append(s)\n",
    "input_str=input()\n",
    "res=[]\n",
    "for i in range(len(input_str)):\n",
    "    x=0\n",
    "    if input_str[i] in l[x]:\n",
    "        res.append(1)\n",
    "        x+=1\n",
    "        if x>len(l)-1:\n",
    "            x=0\n",
    "    else:\n",
    "        res.append(0)\n",
    "        x+=1\n",
    "        if x>len(l)-1:\n",
    "            x=0\n",
    "if all(res):\n",
    "    print(\"Yes\")\n",
    "else:\n",
    "    print(\"No\")"
   ]
  },
  {
   "cell_type": "code",
   "execution_count": 51,
   "id": "45b4a663",
   "metadata": {},
   "outputs": [],
   "source": [
    "#  3\n",
    "#  xyz\n",
    "#  pqr\n",
    "#  abc\n",
    "#  yraxpazr\n",
    "#  yes"
   ]
  },
  {
   "cell_type": "code",
   "execution_count": 58,
   "id": "7eb34d46",
   "metadata": {},
   "outputs": [
    {
     "name": "stdin",
     "output_type": "stream",
     "text": [
      " 3\n",
      " abc\n",
      " pqr\n",
      " hij\n",
      " aqrj\n"
     ]
    },
    {
     "name": "stdout",
     "output_type": "stream",
     "text": [
      "no\n"
     ]
    }
   ],
   "source": [
    "n=int(input())\n",
    "matrix=[]\n",
    "for i in range(n):\n",
    "    row=input()\n",
    "    matrix.append(row)\n",
    "s=input()\n",
    "f=0\n",
    "for i in range(len(s)):\n",
    "    if s[i] not in matrix[i%n]:\n",
    "        print(\"no\")\n",
    "        break\n",
    "else:\n",
    "    print(\"yes\")"
   ]
  },
  {
   "cell_type": "code",
   "execution_count": 66,
   "id": "94aa3de9",
   "metadata": {},
   "outputs": [
    {
     "name": "stdin",
     "output_type": "stream",
     "text": [
      " 2\n",
      " ab\n",
      " ed\n",
      " aad\n"
     ]
    },
    {
     "name": "stdout",
     "output_type": "stream",
     "text": [
      "no\n"
     ]
    }
   ],
   "source": [
    "n=int(input())\n",
    "matrix=[]\n",
    "for i in range(n):\n",
    "    matrix.append(list(input()))\n",
    "s=input()\n",
    "f=0\n",
    "for i in range(len(s)):\n",
    "    if s[i] not in matrix[i%n]:\n",
    "        print(\"no\")\n",
    "        f=1\n",
    "        break\n",
    "    else:\n",
    "        matrix[i].remove(s[i])\n",
    "if f==0:\n",
    "    print(\"Yes\")"
   ]
  },
  {
   "cell_type": "code",
   "execution_count": 1,
   "id": "963644eb",
   "metadata": {},
   "outputs": [],
   "source": [
    "# l=[4,1,3,7,3,2]\n",
    "# nr=int(input(\"Enter the number if rats:\"))\n",
    "# uc=int(input(\"Enter the number of units each rat consumes:\"))\n",
    "\n",
    "        "
   ]
  },
  {
   "cell_type": "code",
   "execution_count": 29,
   "id": "f6c74d39",
   "metadata": {},
   "outputs": [
    {
     "name": "stdin",
     "output_type": "stream",
     "text": [
      " 5 4 2 9 7 1\n"
     ]
    },
    {
     "name": "stdout",
     "output_type": "stream",
     "text": [
      "7\n"
     ]
    }
   ],
   "source": [
    "# ip:\n",
    "#     15 3 2 7 8 4     |       5 4 2 9 7 1   |      9 8 7 6 5 4   |  5 3 2 7 8 4\n",
    "#     m  t w t f s     |                     |                    |\n",
    "# op: -----------------| --------------------|--------------------|---------------\n",
    "#     6                |      7              |     0              |  6\n",
    "a= list(map(int, input().split(' ')))\n",
    "pr=0\n",
    "for i in range(len(n)-1):\n",
    "    for j in range(i+1,len(a)):\n",
    "        if (a[i]<a[j] and a[j]-a[i]>pr):\n",
    "            pr=a[j]-a[i]\n",
    "print(pr)"
   ]
  },
  {
   "cell_type": "code",
   "execution_count": 49,
   "id": "611f98c3-65ff-49d5-91bc-ee9fd4562a38",
   "metadata": {},
   "outputs": [
    {
     "name": "stdout",
     "output_type": "stream",
     "text": [
      "* * * * \n",
      "* 1 2 * \n",
      "* 3 4 * \n",
      "* * * * \n"
     ]
    }
   ],
   "source": [
    "# * * * * \n",
    "# * 1 2 * \n",
    "# * 3 4 * \n",
    "# * * * *\n",
    "a=4\n",
    "k=1\n",
    "for i in range(4):\n",
    "    for j in range(4):\n",
    "        if (i==0 or j==0 or i==a-1 or j==a-1):\n",
    "            print('* ',end='')\n",
    "        else:\n",
    "            print(k,end=' ')\n",
    "            k+=1\n",
    "    print()\n"
   ]
  },
  {
   "cell_type": "code",
   "execution_count": 45,
   "id": "b6acaaf1-c2ac-4dd1-a1e5-d75a1d4024b8",
   "metadata": {},
   "outputs": [
    {
     "name": "stdout",
     "output_type": "stream",
     "text": [
      "* * * * * \n",
      "* 1 2 3 * \n",
      "* 4 5 6 * \n",
      "* 7 8 9 * \n",
      "* * * * * \n"
     ]
    }
   ],
   "source": [
    "def print_pattern():\n",
    "    n = 3 \n",
    "    m = 5  \n",
    "    \n",
    "    for i in range(m):\n",
    "        for j in range(m):\n",
    "            if i == 0 or i == m-1: \n",
    "                print(\"*\", end=\" \")\n",
    "            elif j == 0 or j == m-1:  \n",
    "                print(\"*\", end=\" \")\n",
    "            else:\n",
    "                print((i-1) * n + j, end=\" \")\n",
    "        print()\n",
    "\n",
    "\n",
    "print_pattern()\n"
   ]
  },
  {
   "cell_type": "code",
   "execution_count": 8,
   "id": "424e3336-6bda-413b-9aef-3dbd876b1852",
   "metadata": {},
   "outputs": [
    {
     "name": "stdin",
     "output_type": "stream",
     "text": [
      " 5\n"
     ]
    },
    {
     "name": "stdout",
     "output_type": "stream",
     "text": [
      "________e________\n",
      "______e_d_e______\n",
      "____e_d_c_d_e____\n",
      "__e_d_c_b_c_d_e__\n"
     ]
    }
   ],
   "source": [
    "n=int(input())\n",
    "l1=list(map(chr,range(97,123)))\n",
    "x=l1[n-1::-1]+l1[1:n]\n",
    "m=len('_'.join(x))\n",
    "for i in range(1,n):\n",
    "    print('_'.join(l1[n-1:n-i:-1]+l1[n-i:n]).center(m,'_'))\n",
    "# for i in range(n,0,-1):\n",
    "#     print('_'.join(l1[n-1:n-i:-1]+l1[n-i:n]).center(m,'_'))"
   ]
  },
  {
   "cell_type": "code",
   "execution_count": 57,
   "id": "32d52fb1-bdbb-4bfc-a97b-9a174ebfb3e6",
   "metadata": {},
   "outputs": [
    {
     "name": "stdin",
     "output_type": "stream",
     "text": [
      " 5\n"
     ]
    },
    {
     "name": "stdout",
     "output_type": "stream",
     "text": [
      "abcde\n"
     ]
    }
   ],
   "source": [
    "n=int(input())\n",
    "l1=list(map(chr,range(97,123)))\n",
    "x=[]\n",
    "for i in range(n):\n",
    "    x.append(chr(97+i))\n",
    "    r=''.join(x)\n",
    "print(r)"
   ]
  }
 ],
 "metadata": {
  "kernelspec": {
   "display_name": "Python 3 (ipykernel)",
   "language": "python",
   "name": "python3"
  },
  "language_info": {
   "codemirror_mode": {
    "name": "ipython",
    "version": 3
   },
   "file_extension": ".py",
   "mimetype": "text/x-python",
   "name": "python",
   "nbconvert_exporter": "python",
   "pygments_lexer": "ipython3",
   "version": "3.11.4"
  }
 },
 "nbformat": 4,
 "nbformat_minor": 5
}
