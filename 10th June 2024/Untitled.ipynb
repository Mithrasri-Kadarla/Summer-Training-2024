{
 "cells": [
  {
   "cell_type": "code",
   "execution_count": 13,
   "id": "83e28ca7-9aae-4a48-a415-2d0d71b452f7",
   "metadata": {},
   "outputs": [
    {
     "name": "stdout",
     "output_type": "stream",
     "text": [
      "The parents of each node are:\n",
      "1->Root\n",
      "2->1\n",
      "5->2\n",
      "6->2\n",
      "3->1\n",
      "4->1\n",
      "7->4\n",
      "The children of each node are:\n",
      "1->\n",
      "2\n",
      "3\n",
      "4\n",
      "\n",
      "2->\n",
      "5\n",
      "6\n",
      "\n",
      "3->\n",
      "\n",
      "4->\n",
      "7\n",
      "\n",
      "5->\n",
      "\n",
      "6->\n",
      "\n",
      "7->\n",
      "\n",
      "The leaf nodes of the tree are:\n",
      "3\n",
      "5\n",
      "6\n",
      "7\n",
      "The degrees of each node are:\n",
      "1 :\n",
      "3\n",
      "2 :\n",
      "2\n",
      "3 :\n",
      "0\n",
      "4 :\n",
      "1\n",
      "5 :\n",
      "0\n",
      "6 :\n",
      "0\n",
      "7 :\n",
      "0\n"
     ]
    }
   ],
   "source": [
    "from collections import deque\n",
    "\n",
    "# Function to add an edge between vertices x and y\n",
    "def addEdge(x, y, adj):\n",
    "    adj[x].append(y)\n",
    "    adj[y].append(x)\n",
    "\n",
    "# Function to print the parent of each node\n",
    "def printParents(node, adj, parent):\n",
    "    # current node is Root, thus, has no parent\n",
    "    if parent == 0:\n",
    "        print(\"{}->Root\".format(node))\n",
    "    else:\n",
    "        print(\"{}->{}\".format(node, parent))\n",
    "\n",
    "    # Using DFS\n",
    "    for cur in adj[node]:\n",
    "        if cur != parent:\n",
    "            printParents(cur, adj, node)\n",
    "\n",
    "# Function to print the children of each node\n",
    "def printChildren(Root, adj):\n",
    "    # Queue for the BFS\n",
    "    q = deque()\n",
    "    # pushing the root\n",
    "    q.append(Root)\n",
    "    # visit array to keep track of nodes that have been\n",
    "    # visited\n",
    "    vis = [0] * len(adj)\n",
    "    # BFS\n",
    "    while q:\n",
    "        node = q.popleft()\n",
    "        vis[node] = 1\n",
    "        print(\"{}->\".format(node)),\n",
    "        for cur in adj[node]:\n",
    "            if vis[cur] == 0:\n",
    "                print(cur),\n",
    "                q.append(cur)\n",
    "        print()\n",
    "\n",
    "# Function to print the leaf nodes\n",
    "def printLeafNodes(Root, adj):\n",
    "    # Leaf nodes have only one edge and are not the root\n",
    "    for i in range(1, len(adj)):\n",
    "        if len(adj[i]) == 1 and i != Root:\n",
    "            print(i),\n",
    "\n",
    "# Function to print the degrees of each node\n",
    "def printDegrees(Root, adj):\n",
    "    for i in range(1, len(adj)):\n",
    "        print(i, \":\"),\n",
    "        # Root has no parent, thus, its degree is equal to\n",
    "        # the edges it is connected to\n",
    "        if i == Root:\n",
    "            print(len(adj[i]))\n",
    "        else:\n",
    "            print(len(adj[i]) - 1)\n",
    "\n",
    "# Driver code\n",
    "N = 7\n",
    "Root = 1\n",
    "# Adjacency list to store the tree\n",
    "adj = [[] for _ in range(N + 1)]\n",
    "# Creating the tree\n",
    "addEdge(1, 2, adj)\n",
    "addEdge(1, 3, adj)\n",
    "addEdge(1, 4, adj)\n",
    "addEdge(2, 5, adj)\n",
    "addEdge(2, 6, adj)\n",
    "addEdge(4, 7, adj)\n",
    "\n",
    "# Printing the parents of each node\n",
    "print(\"The parents of each node are:\")\n",
    "printParents(Root, adj, 0)\n",
    "\n",
    "# Printing the children of each node\n",
    "print(\"The children of each node are:\")\n",
    "printChildren(Root, adj)\n",
    "\n",
    "# Printing the leaf nodes in the tree\n",
    "print(\"The leaf nodes of the tree are:\")\n",
    "printLeafNodes(Root, adj)\n",
    "\n",
    "# Printing the degrees of each node\n",
    "print(\"The degrees of each node are:\")\n",
    "printDegrees(Root, adj)\n"
   ]
  },
  {
   "cell_type": "code",
   "execution_count": 14,
   "id": "d1402032-2ce8-47e3-8692-6af2fa73abad",
   "metadata": {},
   "outputs": [
    {
     "name": "stdin",
     "output_type": "stream",
     "text": [
      " 4 5 2 1 \n"
     ]
    },
    {
     "name": "stdout",
     "output_type": "stream",
     "text": [
      "[[4, 5, 2, 1]]\n"
     ]
    }
   ],
   "source": [
    "# input:               4 5 2 1                  1 2 3 4 1 2 3 1 2                          2 3 1 3 4 3 2\n",
    "#output:            [[4, 5, 2, 1]]          [[1, 2, 3, 4], [1, 2, 3], [1, 2]]           [[2, 3, 1, 4], [3, 2], [3]]\n",
    "\n",
    "def split(l):\n",
    "    res = []\n",
    "    non_skip = []\n",
    "    skip = []\n",
    "    seen = set() \n",
    "    for i in l:\n",
    "        if i not in seen:\n",
    "            non_skip.append(i)\n",
    "            seen.add(i)\n",
    "        else:\n",
    "            skip.append(i)\n",
    "    \n",
    "    res.append(non_skip)\n",
    "    \n",
    "    if skip:  \n",
    "        res.extend(split(skip))\n",
    "    \n",
    "    return res\n",
    "\n",
    "l = list(map(int, input().split()))  \n",
    "result = split(l)\n",
    "print(result)\n"
   ]
  },
  {
   "cell_type": "code",
   "execution_count": 18,
   "id": "18ebac2d-5add-4207-ac27-eec9f4367b6f",
   "metadata": {},
   "outputs": [
    {
     "name": "stdout",
     "output_type": "stream",
     "text": [
      "[[1, 2, 3, 4], [1, 2, 3], [1, 2]]\n"
     ]
    }
   ],
   "source": [
    "a= [1, 2, 3, 4, 1, 2, 3, 1, 2]\n",
    "m=[]\n",
    "c=0\n",
    "while(c!=len(a)):\n",
    "    r=[]\n",
    "    for i in range(len(a)):\n",
    "        if(not str(a[i]).isalpha()):\n",
    "            if(a[i] not in r):\n",
    "                c=c+1\n",
    "                r.append(a[i])\n",
    "                a[i]='a'\n",
    "    m.append(r)\n",
    "print(m)"
   ]
  },
  {
   "cell_type": "code",
   "execution_count": 27,
   "id": "e02bf87c-690d-40dc-9a29-e04b8cd57432",
   "metadata": {},
   "outputs": [
    {
     "name": "stdin",
     "output_type": "stream",
     "text": [
      " qweer yuip asdfvgh JKL mnbvlkjcxz\n"
     ]
    },
    {
     "name": "stdout",
     "output_type": "stream",
     "text": [
      "No\n"
     ]
    }
   ],
   "source": [
    "# the quick brown fox jumps over the lazy dog\n",
    "#qweer yuip asdfvgh JKL mnbvlkjcxz\n",
    "n=input()\n",
    "s=set(n)\n",
    "if len(list(s))==27:\n",
    "    print(\"Yes\")\n",
    "else:\n",
    "    print(\"No\")"
   ]
  },
  {
   "cell_type": "code",
   "execution_count": 33,
   "id": "510da0eb-780c-4385-9b44-32660dab48cc",
   "metadata": {},
   "outputs": [
    {
     "name": "stdin",
     "output_type": "stream",
     "text": [
      " the quick brown fox jumps over the lazy dog\n"
     ]
    },
    {
     "name": "stdout",
     "output_type": "stream",
     "text": [
      "Yes\n"
     ]
    }
   ],
   "source": [
    "n=input()\n",
    "ns=''.join(n.split())\n",
    "x=[]\n",
    "for i in ns:\n",
    "    if i.islower():\n",
    "        x.append(i)\n",
    "xs=set(x)\n",
    "if len(xs)==26:\n",
    "    print(\"Yes\")\n",
    "else:\n",
    "    print(\"No\")"
   ]
  },
  {
   "cell_type": "code",
   "execution_count": 36,
   "id": "e85c67ea",
   "metadata": {},
   "outputs": [
    {
     "name": "stdin",
     "output_type": "stream",
     "text": [
      " abcdabc\n"
     ]
    },
    {
     "name": "stdout",
     "output_type": "stream",
     "text": [
      "4\n"
     ]
    }
   ],
   "source": [
    "# string=\"abfgresagtyuiofde\" max substring length 12\n",
    "n=input()\n",
    "d={}\n",
    "l=[]\n",
    "s=n[0]\n",
    "for i in range(1,len(n)):\n",
    "    if i==1:\n",
    "        if n[i]!=s:\n",
    "            s+=n[i]\n",
    "    if i>1:\n",
    "        if n[i] not in s:\n",
    "            s+=n[i]\n",
    "        else:\n",
    "            l.append(s)\n",
    "x=[]\n",
    "for i in l:\n",
    "    x.append(len(i))\n",
    "print(max(x))"
   ]
  },
  {
   "cell_type": "code",
   "execution_count": 38,
   "id": "d1c32062-9464-4d01-8296-2a7e16b9ae98",
   "metadata": {},
   "outputs": [
    {
     "name": "stdout",
     "output_type": "stream",
     "text": [
      "12\n"
     ]
    }
   ],
   "source": [
    "def longest_unique_substring_length(s):\n",
    "    d = {}\n",
    "    max_length = 0\n",
    "    start = 0\n",
    "\n",
    "    for i in range(len(s)):\n",
    "        if s[i] in d:\n",
    "            start = max(start, d[s[i]] + 1)\n",
    "        d[s[i]] = i\n",
    "        max_length = max(max_length, i - start + 1)\n",
    "\n",
    "    return max_length\n",
    "\n",
    "n = \"abfgresagtyuiofde\"\n",
    "\n",
    "print(longest_unique_substring_length(n))\n"
   ]
  },
  {
   "cell_type": "code",
   "execution_count": null,
   "id": "63ef3700-f3a0-4f6a-8b4f-ea21f46f9f42",
   "metadata": {},
   "outputs": [],
   "source": []
  }
 ],
 "metadata": {
  "kernelspec": {
   "display_name": "Python 3 (ipykernel)",
   "language": "python",
   "name": "python3"
  },
  "language_info": {
   "codemirror_mode": {
    "name": "ipython",
    "version": 3
   },
   "file_extension": ".py",
   "mimetype": "text/x-python",
   "name": "python",
   "nbconvert_exporter": "python",
   "pygments_lexer": "ipython3",
   "version": "3.11.4"
  }
 },
 "nbformat": 4,
 "nbformat_minor": 5
}
