{
 "cells": [
  {
   "cell_type": "code",
   "execution_count": 6,
   "id": "160f4574-b2e1-464e-a750-5f19dda3a6c5",
   "metadata": {},
   "outputs": [
    {
     "name": "stdout",
     "output_type": "stream",
     "text": [
      "146\n"
     ]
    }
   ],
   "source": [
    "def dig_sum(n):\n",
    "    s=0\n",
    "    while n>0:\n",
    "        r=n%10\n",
    "        s+=r\n",
    "        n=n//10\n",
    "    return s\n",
    "def sing_dig(n):\n",
    "    while n>=10:\n",
    "        n=dig_sum(n)\n",
    "    return n\n",
    "def chk_prime(n):\n",
    "    while True:\n",
    "        num=sing_dig(n)\n",
    "        if num in [2,3,5,7]:\n",
    "            return n\n",
    "        n+=1\n",
    "n=145\n",
    "x=chk_prime(n)\n",
    "print(x)"
   ]
  },
  {
   "cell_type": "code",
   "execution_count": 10,
   "id": "5e517c27-c07a-4f2a-92d6-f292a5b1cb96",
   "metadata": {},
   "outputs": [
    {
     "name": "stdout",
     "output_type": "stream",
     "text": [
      "1\n",
      "2\n",
      "500\n",
      "2\n",
      "None\n",
      "1\n",
      "None\n"
     ]
    }
   ],
   "source": [
    "def fun(x):\n",
    "    if x==3:\n",
    "        return 500\n",
    "    print(x)\n",
    "    t=fun(x+1)\n",
    "    print(t)\n",
    "    print(x)\n",
    "print(fun(1))"
   ]
  },
  {
   "cell_type": "code",
   "execution_count": 12,
   "id": "bfd80972-9f79-4726-99ff-4f741e884d76",
   "metadata": {},
   "outputs": [
    {
     "name": "stdout",
     "output_type": "stream",
     "text": [
      "14\n"
     ]
    }
   ],
   "source": [
    "def fun(x,s):\n",
    "    if x==len(a):\n",
    "        return s\n",
    "    s+=a[x]\n",
    "    return fun(x+1,s)\n",
    "a=[7,6,1]\n",
    "print(fun(0,0))"
   ]
  },
  {
   "cell_type": "code",
   "execution_count": 21,
   "id": "bdb489fc-9180-48b9-9c7a-38aafe4a6d6b",
   "metadata": {},
   "outputs": [
    {
     "name": "stdout",
     "output_type": "stream",
     "text": [
      "Sum of even numbers in list a: 12\n",
      "Sum of odd numbers in list a: 1\n",
      "Sum of even numbers in list b: 96\n",
      "Sum of odd numbers in list b: 14\n"
     ]
    }
   ],
   "source": [
    "#using recusrion print sum of even numbers in a list  and odd numbers b list\n",
    "def fun(i, s1, s2, lst):\n",
    "    if i == len(lst):\n",
    "        return s1, s2\n",
    "    if lst[i] % 2 == 0:\n",
    "        s1 += lst[i]\n",
    "    else:\n",
    "        s2 += lst[i]\n",
    "    return fun(i + 1, s1, s2, lst)\n",
    "\n",
    "a = [4, 6, 2, 1, 0]\n",
    "b = [5, 1, 7, 96, 1]\n",
    "\n",
    "even_sum_a, odd_sum_a = fun(0, 0, 0, a)\n",
    "even_sum_b, odd_sum_b = fun(0, 0, 0, b)\n",
    "\n",
    "print(\"Sum of even numbers in list a:\", even_sum_a)\n",
    "print(\"Sum of odd numbers in list a:\", odd_sum_a)\n",
    "print(\"Sum of even numbers in list b:\", even_sum_b)\n",
    "print(\"Sum of odd numbers in list b:\", odd_sum_b)\n"
   ]
  },
  {
   "cell_type": "code",
   "execution_count": 20,
   "id": "a4602384-abd6-4116-8693-127362a6467b",
   "metadata": {},
   "outputs": [
    {
     "name": "stdout",
     "output_type": "stream",
     "text": [
      "12\n",
      "11\n",
      "2\n",
      "17\n"
     ]
    }
   ],
   "source": [
    "def e_sum(lst, n):\n",
    "    if n == 0:\n",
    "        return 0\n",
    "    if lst[n-1] % 2 == 0:\n",
    "        return lst[n-1] + e_sum(lst, n-1)\n",
    "    else:\n",
    "        return e_sum(lst, n-1)\n",
    "\n",
    "def o_sum(lst, n):\n",
    "    if n == 0:\n",
    "        return 0\n",
    "    if lst[n-1] % 2 != 0:\n",
    "        return lst[n-1] + o_sum(lst, n-1)\n",
    "    else:\n",
    "        return o_sum(lst, n-1)\n",
    "\n",
    "a = [3, 8, 5, 4, 3]\n",
    "b = [5, 0, 9, 3, 2]\n",
    "print(e_sum(a, len(a)))\n",
    "print(o_sum(a, len(a)))\n",
    "print(e_sum(b, len(b)))\n",
    "print(o_sum(b, len(b)))\n"
   ]
  },
  {
   "cell_type": "code",
   "execution_count": 31,
   "id": "731a63bf-654b-4103-89a7-202d6d7c78f5",
   "metadata": {},
   "outputs": [
    {
     "name": "stdout",
     "output_type": "stream",
     "text": [
      "30\n"
     ]
    }
   ],
   "source": [
    "def recur(x):\n",
    "    if x==0:\n",
    "        return 0\n",
    "    return x+recur(x-2)\n",
    "n=10\n",
    "if n%2==0:\n",
    "    print(recur(n))\n",
    "else:\n",
    "    print(recur(n-1))"
   ]
  },
  {
   "cell_type": "code",
   "execution_count": 18,
   "id": "da8a9500-b3d0-4268-863b-723e95e5439d",
   "metadata": {},
   "outputs": [
    {
     "name": "stdout",
     "output_type": "stream",
     "text": [
      "6\n"
     ]
    }
   ],
   "source": [
    "print(7^1)"
   ]
  },
  {
   "cell_type": "code",
   "execution_count": 19,
   "id": "f88aece0-487f-4d26-ac11-16dfdabdf4aa",
   "metadata": {},
   "outputs": [
    {
     "name": "stdout",
     "output_type": "stream",
     "text": [
      "2\n"
     ]
    }
   ],
   "source": [
    "print(2^0)"
   ]
  },
  {
   "cell_type": "code",
   "execution_count": 20,
   "id": "d38242ca-53a8-4e72-8031-9bd5c0bf9478",
   "metadata": {},
   "outputs": [
    {
     "name": "stdout",
     "output_type": "stream",
     "text": [
      "0\n"
     ]
    }
   ],
   "source": [
    "print(2^2)"
   ]
  },
  {
   "cell_type": "code",
   "execution_count": 2,
   "id": "ea43465b-5bf5-41c6-97b9-38472c4adc0b",
   "metadata": {},
   "outputs": [
    {
     "name": "stdout",
     "output_type": "stream",
     "text": [
      "Male: 15\n",
      "Female: 19\n",
      "Female\n"
     ]
    }
   ],
   "source": [
    "s=\"MMMFFFFMMFMFMFMFMFMMMMFFFFFFFFMFMF\"\n",
    "m=0\n",
    "f=0\n",
    "for i in s:\n",
    "    if i==\"M\":\n",
    "        m+=1\n",
    "    else:\n",
    "        f+=1\n",
    "print(\"Male:\",m)\n",
    "print(\"Female:\",f)\n",
    "if m==f:\n",
    "    print(0)\n",
    "elif m>f:\n",
    "    print(\"Male\")\n",
    "elif f>m:\n",
    "    print(\"Female\")"
   ]
  },
  {
   "cell_type": "code",
   "execution_count": null,
   "id": "21df0bcb-98ec-46fd-a500-590086ad1b18",
   "metadata": {},
   "outputs": [],
   "source": []
  },
  {
   "cell_type": "code",
   "execution_count": 32,
   "id": "1f9f2121",
   "metadata": {},
   "outputs": [
    {
     "name": "stdout",
     "output_type": "stream",
     "text": [
      "lecoe\n"
     ]
    }
   ],
   "source": [
    "s = \"leet**cod*e\"\n",
    "l = []\n",
    "\n",
    "for i in s:\n",
    "    if i != '*':\n",
    "        l.append(i)\n",
    "    else:\n",
    "        if l: \n",
    "            l.pop(-1)\n",
    "\n",
    "x = ''.join(l)\n",
    "print(x)\n"
   ]
  },
  {
   "cell_type": "code",
   "execution_count": 40,
   "id": "159b0aa9-03ba-4ae0-8866-46e2a91fe783",
   "metadata": {},
   "outputs": [
    {
     "name": "stdout",
     "output_type": "stream",
     "text": [
      "This is a sentence\n"
     ]
    }
   ],
   "source": [
    "## Sorting the sentence\n",
    "s=\"is2 sentence4 This1 a3\"\n",
    "l=[]\n",
    "for i in s.split(' '):\n",
    "    l.insert(int(i[-1])-1,i[:-1])\n",
    "x=' '.join(l)\n",
    "print(x)"
   ]
  },
  {
   "cell_type": "code",
   "execution_count": 3,
   "id": "65b42155-00e5-4924-96d4-ef2b86040566",
   "metadata": {},
   "outputs": [
    {
     "name": "stdin",
     "output_type": "stream",
     "text": [
      " is2 sentence4 This1 a3\n"
     ]
    },
    {
     "ename": "ValueError",
     "evalue": "invalid literal for int() with base 10: 'i'",
     "output_type": "error",
     "traceback": [
      "\u001b[1;31m---------------------------------------------------------------------------\u001b[0m",
      "\u001b[1;31mValueError\u001b[0m                                Traceback (most recent call last)",
      "Cell \u001b[1;32mIn[3], line 6\u001b[0m\n\u001b[0;32m      4\u001b[0m re\u001b[38;5;241m=\u001b[39m[\u001b[38;5;241m0\u001b[39m]\u001b[38;5;241m*\u001b[39m\u001b[38;5;28mlen\u001b[39m(a)\n\u001b[0;32m      5\u001b[0m \u001b[38;5;28;01mfor\u001b[39;00m i \u001b[38;5;129;01min\u001b[39;00m a:\n\u001b[1;32m----> 6\u001b[0m     re[\u001b[38;5;28;43mint\u001b[39;49m\u001b[43m(\u001b[49m\u001b[43mi\u001b[49m\u001b[43m[\u001b[49m\u001b[38;5;241;43m-\u001b[39;49m\u001b[38;5;241;43m1\u001b[39;49m\u001b[43m]\u001b[49m\u001b[43m)\u001b[49m]\n\u001b[0;32m      7\u001b[0m     l\u001b[38;5;241m.\u001b[39minsert(\u001b[38;5;28mint\u001b[39m(i[\u001b[38;5;241m-\u001b[39m\u001b[38;5;241m1\u001b[39m])\u001b[38;5;241m-\u001b[39m\u001b[38;5;241m1\u001b[39m,i[:\u001b[38;5;241m-\u001b[39m\u001b[38;5;241m1\u001b[39m])\n\u001b[0;32m      8\u001b[0m x\u001b[38;5;241m=\u001b[39m\u001b[38;5;124m'\u001b[39m\u001b[38;5;124m \u001b[39m\u001b[38;5;124m'\u001b[39m\u001b[38;5;241m.\u001b[39mjoin(l)\n",
      "\u001b[1;31mValueError\u001b[0m: invalid literal for int() with base 10: 'i'"
     ]
    }
   ],
   "source": [
    "## Sorting the sentence\n",
    "#s=\"is2 sentence4 This1 a3\"\n",
    "a=input()\n",
    "re=[0]*len(a)\n",
    "for i in a:\n",
    "    re[int(i[-1])]\n",
    "    l.insert(int(i[-1])-1,i[:-1])\n",
    "x=' '.join(l)\n",
    "print(x)"
   ]
  },
  {
   "cell_type": "code",
   "execution_count": null,
   "id": "54f43219-caa0-471f-9fa4-210fa7538fde",
   "metadata": {},
   "outputs": [],
   "source": []
  }
 ],
 "metadata": {
  "kernelspec": {
   "display_name": "Python 3 (ipykernel)",
   "language": "python",
   "name": "python3"
  },
  "language_info": {
   "codemirror_mode": {
    "name": "ipython",
    "version": 3
   },
   "file_extension": ".py",
   "mimetype": "text/x-python",
   "name": "python",
   "nbconvert_exporter": "python",
   "pygments_lexer": "ipython3",
   "version": "3.11.4"
  }
 },
 "nbformat": 4,
 "nbformat_minor": 5
}
