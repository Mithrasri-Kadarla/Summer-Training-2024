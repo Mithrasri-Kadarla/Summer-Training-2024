{
 "cells": [
  {
   "cell_type": "code",
   "execution_count": 22,
   "id": "3d923578-734c-43e2-af46-6d881ce38962",
   "metadata": {},
   "outputs": [
    {
     "name": "stdin",
     "output_type": "stream",
     "text": [
      " 4 8 2 4 4 8 4\n"
     ]
    },
    {
     "name": "stdout",
     "output_type": "stream",
     "text": [
      "[4]\n"
     ]
    }
   ],
   "source": [
    "#1\n",
    "l=list(map(int,input().split(' ')))\n",
    "n=len(l)\n",
    "min_rep=n//2\n",
    "xl=[]\n",
    "for i in l:\n",
    "    x=l.count(i)\n",
    "    if x>min_rep:\n",
    "        xl.append(i)\n",
    "s=set(xl)\n",
    "print(list(s))"
   ]
  },
  {
   "cell_type": "code",
   "execution_count": 23,
   "id": "b48aa05d-4f67-46dd-88d4-fbb992dafdcc",
   "metadata": {},
   "outputs": [
    {
     "name": "stdout",
     "output_type": "stream",
     "text": [
      "4\n"
     ]
    }
   ],
   "source": [
    "def freq(arr):\n",
    "    d={}\n",
    "    for i in arr:\n",
    "        if i in d:\n",
    "            d[i]+=1\n",
    "        else:\n",
    "            d[i]=1\n",
    "    for key,val in d.items():\n",
    "        if val>(len(arr)//2):\n",
    "            print(key)\n",
    "        \n",
    "arr=[4,8,2,4,4,8,4]\n",
    "freq(arr)"
   ]
  },
  {
   "cell_type": "code",
   "execution_count": 24,
   "id": "92ecf13a-e84c-45d7-9c6a-78aec0a73d2b",
   "metadata": {},
   "outputs": [
    {
     "name": "stdin",
     "output_type": "stream",
     "text": [
      " 4 8 2 4 4 8 4\n"
     ]
    },
    {
     "name": "stdout",
     "output_type": "stream",
     "text": [
      "4\n"
     ]
    }
   ],
   "source": [
    "l=list(map(int,input().split(' ')))# 4 8 2 4 4 8 4\n",
    "c=1\n",
    "w=l[0]\n",
    "for i in range(1,len(l)):\n",
    "    if w!=l[i]:\n",
    "        c+=1\n",
    "    else:\n",
    "        c-=1\n",
    "        if c==0:\n",
    "            c+=1\n",
    "            w=l[i]\n",
    "print(w)\n",
    "        "
   ]
  },
  {
   "cell_type": "code",
   "execution_count": 25,
   "id": "7cfffd23-2b1a-4368-be2d-7becb2c64738",
   "metadata": {},
   "outputs": [
    {
     "name": "stdin",
     "output_type": "stream",
     "text": [
      " 7\n",
      " 0 5 3 6 7 2 1\n"
     ]
    },
    {
     "name": "stdout",
     "output_type": "stream",
     "text": [
      "4\n"
     ]
    }
   ],
   "source": [
    "#0 5 3 6 7 2 1\n",
    "n=int(input())\n",
    "l=list(map(int,input().split()))\n",
    "b=sum(l)\n",
    "s=(n*(n+1))//2\n",
    "print(s-b)"
   ]
  },
  {
   "cell_type": "code",
   "execution_count": 26,
   "id": "38e5131d-fa3d-4404-bc93-f49f12c6f569",
   "metadata": {},
   "outputs": [
    {
     "name": "stdin",
     "output_type": "stream",
     "text": [
      "Enter a number:  15\n",
      "Enter k:  2\n"
     ]
    },
    {
     "name": "stdout",
     "output_type": "stream",
     "text": [
      "1\n"
     ]
    }
   ],
   "source": [
    "def fun(a, k, l):\n",
    "    if a[k-1] > len(l):\n",
    "        return fun(a, k-1, l)\n",
    "    else:\n",
    "        return a[k-1]\n",
    "\n",
    "n = int(input(\"Enter a number: \"))  \n",
    "k = int(input(\"Enter k: \"))         \n",
    "l = []\n",
    "for i in range(1, n+1):\n",
    "    if n % i == 0:\n",
    "        l.append(i)\n",
    "a = l[::-1]  \n",
    "result = fun(a, k, l)\n",
    "print(result)\n"
   ]
  },
  {
   "cell_type": "code",
   "execution_count": 27,
   "id": "7a9631ad-a4dd-4500-b21b-b8e888d4ccff",
   "metadata": {},
   "outputs": [
    {
     "name": "stdin",
     "output_type": "stream",
     "text": [
      "Enter the first number:  15\n",
      "Enter the second number:  8\n"
     ]
    },
    {
     "name": "stdout",
     "output_type": "stream",
     "text": [
      "Coprimes\n"
     ]
    }
   ],
   "source": [
    "n1 = int(input(\"Enter the first number: \"))\n",
    "n2 = int(input(\"Enter the second number: \"))\n",
    "\n",
    "s1 = set()\n",
    "s2 = set()\n",
    "for i in range(1, n1 + 1):\n",
    "    if n1 % i == 0:\n",
    "        s1.add(i)\n",
    "for i in range(1, n2 + 1):\n",
    "    if n2 % i == 0:  \n",
    "        s2.add(i)\n",
    "common_divisors = s1.intersection(s2)\n",
    "\n",
    "if common_divisors == {1}:\n",
    "    print(\"Coprimes\")\n",
    "else:\n",
    "    print(\"Not coprimes\")\n"
   ]
  },
  {
   "cell_type": "code",
   "execution_count": 31,
   "id": "f37c6482-8d79-4165-8abd-d0995323d068",
   "metadata": {},
   "outputs": [
    {
     "name": "stdin",
     "output_type": "stream",
     "text": [
      "Enter the first number:  15\n",
      "Enter the second number:  8\n"
     ]
    },
    {
     "name": "stdout",
     "output_type": "stream",
     "text": [
      "Coprimes\n"
     ]
    }
   ],
   "source": [
    "# Function to calculate the GCD using the Euclidean algorithm\n",
    "def euclidean_gcd(a, b):\n",
    "    while b != 0:\n",
    "        a, b = b, a % b\n",
    "    return a\n",
    "\n",
    "n1 = int(input(\"Enter the first number: \"))\n",
    "n2 = int(input(\"Enter the second number: \"))\n",
    "\n",
    "gcd = euclidean_gcd(n1, n2)\n",
    "\n",
    "if gcd == 1:\n",
    "    print(\"Coprimes\")\n",
    "else:\n",
    "    print(\"Not coprimes\")\n"
   ]
  },
  {
   "cell_type": "code",
   "execution_count": 32,
   "id": "23ddff06-6134-429b-a36a-aea202f5140d",
   "metadata": {},
   "outputs": [
    {
     "name": "stdin",
     "output_type": "stream",
     "text": [
      " (([{}]))\n"
     ]
    },
    {
     "name": "stdout",
     "output_type": "stream",
     "text": [
      "-1\n"
     ]
    }
   ],
   "source": [
    "# ip:             ip:             ip:             ip:\n",
    "#     \"(([{}]))\"      \"[{()]\"          \"[()]()\"      \"[(){}{()}]\"\n",
    "# op:            op:              op:              op:\n",
    "#     -1               5                -1            -1\n",
    "s=input()\n",
    "x=0\n",
    "o=['[','{','(']\n",
    "c=[']','}',')']\n",
    "for i in s:\n",
    "    if i in o:\n",
    "        x+=1\n",
    "    elif i in c:\n",
    "        x-=1\n",
    "if x==0:\n",
    "    print(-1)\n",
    "else:\n",
    "    print(0)"
   ]
  },
  {
   "cell_type": "code",
   "execution_count": null,
   "id": "19061ae2-50a8-4595-b9d9-c3362c72ca44",
   "metadata": {},
   "outputs": [],
   "source": []
  }
 ],
 "metadata": {
  "kernelspec": {
   "display_name": "Python 3 (ipykernel)",
   "language": "python",
   "name": "python3"
  },
  "language_info": {
   "codemirror_mode": {
    "name": "ipython",
    "version": 3
   },
   "file_extension": ".py",
   "mimetype": "text/x-python",
   "name": "python",
   "nbconvert_exporter": "python",
   "pygments_lexer": "ipython3",
   "version": "3.11.4"
  }
 },
 "nbformat": 4,
 "nbformat_minor": 5
}
